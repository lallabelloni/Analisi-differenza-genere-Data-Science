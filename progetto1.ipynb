{
 "cells": [
  {
   "cell_type": "code",
   "execution_count": 1,
   "metadata": {},
   "outputs": [],
   "source": [
    "import pandas as pd\n",
    "import matplotlib.pyplot as plt\n",
    "import numpy as np"
   ]
  },
  {
   "cell_type": "code",
   "execution_count": 122,
   "metadata": {},
   "outputs": [],
   "source": [
    "magistrale= pd.DataFrame(pd.read_excel(\"iscritti_magistrale_informatica.xls\")) \n",
    "triennale= pd.DataFrame(pd.read_excel(\"iscritti_triennale_informatica.xls\")) \n",
    "piani= pd.DataFrame(pd.read_excel(\"piani_informatica.xls\"))"
   ]
  },
  {
   "cell_type": "code",
   "execution_count": 123,
   "metadata": {},
   "outputs": [
    {
     "data": {
      "text/html": [
       "<div>\n",
       "<style scoped>\n",
       "    .dataframe tbody tr th:only-of-type {\n",
       "        vertical-align: middle;\n",
       "    }\n",
       "\n",
       "    .dataframe tbody tr th {\n",
       "        vertical-align: top;\n",
       "    }\n",
       "\n",
       "    .dataframe thead th {\n",
       "        text-align: right;\n",
       "    }\n",
       "</style>\n",
       "<table border=\"1\" class=\"dataframe\">\n",
       "  <thead>\n",
       "    <tr style=\"text-align: right;\">\n",
       "      <th></th>\n",
       "      <th>PROGRESSIVO</th>\n",
       "      <th>GENERE</th>\n",
       "      <th>CODCLA</th>\n",
       "      <th>DECO_CLA</th>\n",
       "      <th>ANAC_LAUREA</th>\n",
       "      <th>VOTO_LAUREA</th>\n",
       "      <th>BASE_LAUREA</th>\n",
       "      <th>DATA_LAUREA</th>\n",
       "      <th>ANAC_INGRESSO</th>\n",
       "      <th>ANAC_USCITA</th>\n",
       "      <th>PERIODI_MOBILITA</th>\n",
       "      <th>SITUAZIONE_FINALE</th>\n",
       "      <th>ANAC_RINUNCIA</th>\n",
       "      <th>ANNO_DIPLOMA</th>\n",
       "      <th>MEDIA_DIPLOMA</th>\n",
       "      <th>BASE_DIPLOMA</th>\n",
       "      <th>DIPLOMA_LODE</th>\n",
       "      <th>TIPO_ISTITUTO</th>\n",
       "      <th>PROVINCIA_DIPLOMA</th>\n",
       "      <th>STATO_DIPLOMA</th>\n",
       "    </tr>\n",
       "  </thead>\n",
       "  <tbody>\n",
       "    <tr>\n",
       "      <th>0</th>\n",
       "      <td>129859</td>\n",
       "      <td>M</td>\n",
       "      <td>8759</td>\n",
       "      <td>INFORMATICA</td>\n",
       "      <td>NaN</td>\n",
       "      <td>NaN</td>\n",
       "      <td>NaN</td>\n",
       "      <td>NaT</td>\n",
       "      <td>2010</td>\n",
       "      <td>2010</td>\n",
       "      <td>0</td>\n",
       "      <td>ATTIVO</td>\n",
       "      <td>NaN</td>\n",
       "      <td>1994</td>\n",
       "      <td>36.0</td>\n",
       "      <td>60.0</td>\n",
       "      <td>NaN</td>\n",
       "      <td>IST.TEC. IND. ST.</td>\n",
       "      <td>GENOVA</td>\n",
       "      <td></td>\n",
       "    </tr>\n",
       "    <tr>\n",
       "      <th>1</th>\n",
       "      <td>132793</td>\n",
       "      <td>M</td>\n",
       "      <td>8759</td>\n",
       "      <td>INFORMATICA</td>\n",
       "      <td>NaN</td>\n",
       "      <td>NaN</td>\n",
       "      <td>NaN</td>\n",
       "      <td>NaT</td>\n",
       "      <td>2023</td>\n",
       "      <td>2023</td>\n",
       "      <td>0</td>\n",
       "      <td>ATTIVO</td>\n",
       "      <td>NaN</td>\n",
       "      <td>1994</td>\n",
       "      <td>44.0</td>\n",
       "      <td>60.0</td>\n",
       "      <td>NaN</td>\n",
       "      <td>IST.PROF.IND.ART.ST.</td>\n",
       "      <td>GENOVA</td>\n",
       "      <td></td>\n",
       "    </tr>\n",
       "    <tr>\n",
       "      <th>2</th>\n",
       "      <td>148682</td>\n",
       "      <td>M</td>\n",
       "      <td>8759</td>\n",
       "      <td>INFORMATICA</td>\n",
       "      <td>2018.0</td>\n",
       "      <td>111.0</td>\n",
       "      <td>110.0</td>\n",
       "      <td>2019-07-24</td>\n",
       "      <td>2013</td>\n",
       "      <td>2018</td>\n",
       "      <td>0</td>\n",
       "      <td>ATTIVO</td>\n",
       "      <td>NaN</td>\n",
       "      <td>1996</td>\n",
       "      <td>36.0</td>\n",
       "      <td>60.0</td>\n",
       "      <td>NaN</td>\n",
       "      <td>LICEO SCIENT.  ST.</td>\n",
       "      <td>GENOVA</td>\n",
       "      <td>ITALIA</td>\n",
       "    </tr>\n",
       "    <tr>\n",
       "      <th>3</th>\n",
       "      <td>158085</td>\n",
       "      <td>M</td>\n",
       "      <td>8759</td>\n",
       "      <td>INFORMATICA</td>\n",
       "      <td>NaN</td>\n",
       "      <td>NaN</td>\n",
       "      <td>NaN</td>\n",
       "      <td>NaT</td>\n",
       "      <td>2011</td>\n",
       "      <td>2011</td>\n",
       "      <td>0</td>\n",
       "      <td>ATTIVO</td>\n",
       "      <td>NaN</td>\n",
       "      <td>1996</td>\n",
       "      <td>50.0</td>\n",
       "      <td>60.0</td>\n",
       "      <td>NaN</td>\n",
       "      <td>LICEO SCIENT.  ST.</td>\n",
       "      <td>SAVONA</td>\n",
       "      <td>ITALIA</td>\n",
       "    </tr>\n",
       "    <tr>\n",
       "      <th>4</th>\n",
       "      <td>190048</td>\n",
       "      <td>M</td>\n",
       "      <td>8759</td>\n",
       "      <td>INFORMATICA</td>\n",
       "      <td>NaN</td>\n",
       "      <td>NaN</td>\n",
       "      <td>NaN</td>\n",
       "      <td>NaT</td>\n",
       "      <td>2011</td>\n",
       "      <td>2011</td>\n",
       "      <td>0</td>\n",
       "      <td>ATTIVO</td>\n",
       "      <td>NaN</td>\n",
       "      <td>2002</td>\n",
       "      <td>100.0</td>\n",
       "      <td>100.0</td>\n",
       "      <td>NaN</td>\n",
       "      <td>LICEO CLASSICO ST.</td>\n",
       "      <td>GENOVA</td>\n",
       "      <td></td>\n",
       "    </tr>\n",
       "  </tbody>\n",
       "</table>\n",
       "</div>"
      ],
      "text/plain": [
       "   PROGRESSIVO GENERE  CODCLA      DECO_CLA  ANAC_LAUREA  VOTO_LAUREA  \\\n",
       "0       129859      M    8759  INFORMATICA           NaN          NaN   \n",
       "1       132793      M    8759  INFORMATICA           NaN          NaN   \n",
       "2       148682      M    8759  INFORMATICA        2018.0        111.0   \n",
       "3       158085      M    8759  INFORMATICA           NaN          NaN   \n",
       "4       190048      M    8759  INFORMATICA           NaN          NaN   \n",
       "\n",
       "   BASE_LAUREA DATA_LAUREA  ANAC_INGRESSO  ANAC_USCITA  PERIODI_MOBILITA  \\\n",
       "0          NaN         NaT           2010         2010                 0   \n",
       "1          NaN         NaT           2023         2023                 0   \n",
       "2        110.0  2019-07-24           2013         2018                 0   \n",
       "3          NaN         NaT           2011         2011                 0   \n",
       "4          NaN         NaT           2011         2011                 0   \n",
       "\n",
       "  SITUAZIONE_FINALE  ANAC_RINUNCIA  ANNO_DIPLOMA  MEDIA_DIPLOMA  BASE_DIPLOMA  \\\n",
       "0            ATTIVO            NaN          1994           36.0          60.0   \n",
       "1            ATTIVO            NaN          1994           44.0          60.0   \n",
       "2            ATTIVO            NaN          1996           36.0          60.0   \n",
       "3            ATTIVO            NaN          1996           50.0          60.0   \n",
       "4            ATTIVO            NaN          2002          100.0         100.0   \n",
       "\n",
       "   DIPLOMA_LODE         TIPO_ISTITUTO PROVINCIA_DIPLOMA STATO_DIPLOMA  \n",
       "0           NaN     IST.TEC. IND. ST.            GENOVA                \n",
       "1           NaN  IST.PROF.IND.ART.ST.            GENOVA                \n",
       "2           NaN    LICEO SCIENT.  ST.            GENOVA        ITALIA  \n",
       "3           NaN    LICEO SCIENT.  ST.            SAVONA        ITALIA  \n",
       "4           NaN    LICEO CLASSICO ST.            GENOVA                "
      ]
     },
     "execution_count": 123,
     "metadata": {},
     "output_type": "execute_result"
    }
   ],
   "source": [
    "triennale.head()"
   ]
  },
  {
   "cell_type": "code",
   "execution_count": 124,
   "metadata": {},
   "outputs": [
    {
     "name": "stdout",
     "output_type": "stream",
     "text": [
      "[2014 2012 2011 2013 2015 2017 2016 2020 2021 2018 2022 2019 2023 2010]\n",
      "[2016 2012 2013 2014 2017 2018 2021 2023 2019 2022 2015 2020 2011 2010]\n",
      "[2010 2023 2013 2011 2015 2020 2021 2018 2009 2012 2014 2019 2017 2016\n",
      " 2022]\n",
      "[2010 2023 2018 2011 2015 2020 2013 2009 2014 2016 2017 2012 2022 2021\n",
      " 2019]\n"
     ]
    }
   ],
   "source": [
    "# magistrale: anno accademico ingresso: 2010-2023\n",
    "print(magistrale['ANAC_INGRESSO'].unique())\n",
    "# magistrale: anno accademico uscita: 2010-2023\n",
    "print(magistrale['ANAC_USCITA'].unique())\n",
    "\n",
    "# triennale: anno accademico ingresso: 2010-2023\n",
    "print(triennale['ANAC_INGRESSO'].unique())\n",
    "# triennale: anno accademico uscita: 2010-2023\n",
    "print(triennale['ANAC_USCITA'].unique())"
   ]
  },
  {
   "cell_type": "code",
   "execution_count": 125,
   "metadata": {},
   "outputs": [
    {
     "name": "stdout",
     "output_type": "stream",
     "text": [
      "18.68686868686869\n"
     ]
    }
   ],
   "source": [
    "# percentuale donne in magistrale: 18.7\n",
    "print((magistrale['GENERE'] == 'F').mean() * 100)"
   ]
  },
  {
   "cell_type": "code",
   "execution_count": 126,
   "metadata": {},
   "outputs": [
    {
     "name": "stdout",
     "output_type": "stream",
     "text": [
      "14.436363636363636\n"
     ]
    }
   ],
   "source": [
    "# percentuale donne in triennale: 14.4\n",
    "print((triennale['GENERE'] == 'F').mean() * 100)"
   ]
  },
  {
   "cell_type": "code",
   "execution_count": 127,
   "metadata": {},
   "outputs": [],
   "source": [
    "# valori unici per combinazione di colonne\n",
    "#print(triennale[['CODCLA', 'DECO_CLA']].drop_duplicates())\n",
    "#print()\n",
    "#print(magistrale[['CODCLA', 'DECO_CLA']].drop_duplicates())"
   ]
  },
  {
   "cell_type": "code",
   "execution_count": 128,
   "metadata": {},
   "outputs": [],
   "source": [
    "# join\n",
    "pt = pd.merge(piani, \n",
    "              triennale[['PROGRESSIVO', 'CODCLA', 'GENERE', 'ANAC_INGRESSO']], \n",
    "              how=\"right\", \n",
    "              left_on=[\"PROGRESSIVO\", \"CODCLA\"], \n",
    "              right_on=[\"PROGRESSIVO\", \"CODCLA\"])"
   ]
  },
  {
   "cell_type": "code",
   "execution_count": 129,
   "metadata": {},
   "outputs": [],
   "source": [
    "# pulizia dati\n",
    "\n",
    "# elimino in piani_triennali i valori in cui ho NaN in CODICE_INS e DECODIFICA_INS\n",
    "pt.dropna(subset=['CODICE_INS', 'DECODIFICA_INS'], how='all', inplace=True)\n",
    "\n",
    "# miglioro leggibilità\n",
    "pt['CODCLA'] = pt['CODCLA'].astype(int)\n",
    "pt['CODICE_INS'] = pt['CODICE_INS'].astype(int)\n",
    "pt['VOTO'] = pt['VOTO'].astype(int)\n",
    "\n",
    "# elimino colonna rindondante (codcla separa triennale e magistrale)\n",
    "pt['CODCLA'].unique()\n",
    "pt.drop(columns=['CODCLA'], inplace=True)\n",
    "\n",
    "# elimino insegnamenti con meno di 50 partecipanti (molti a scelta con solo 1 persona)\n",
    "pt = pt[pt.groupby('DECODIFICA_INS')['PROGRESSIVO'].transform('size') >= 50] # -- osservare cambiamenti al variare di min\n",
    "\n",
    "# non ho voti inferiori al 18 -- notificare\n",
    "#print(pt['VOTO'].min())\n",
    "\n",
    "# elimino i voti maggiori di 32 - perchè non so cosa siano, per ora --notificare\n",
    "pt = pt[pt['VOTO'] <= 32]"
   ]
  },
  {
   "cell_type": "code",
   "execution_count": 130,
   "metadata": {},
   "outputs": [],
   "source": [
    "# per ogni esame passato percentuale di donne\n",
    "\n",
    "# numero studenti\n",
    "n_studenti = pt['PROGRESSIVO'].nunique()\n",
    "# numero studenti per esame\n",
    "n_studenti_per_esame = pt.groupby('DECODIFICA_INS').size()\n",
    "# percentuale studenti per esame, su quelli nel database\n",
    "perc = (n_studenti_per_esame / n_studenti) *100\n",
    "\n",
    "n_donne_per_esame = pt[pt['GENERE'] == 'F'].groupby('DECODIFICA_INS').size()\n",
    "#print(n_donne_per_esame)\n",
    "perc_donne = ((n_donne_per_esame / n_studenti_per_esame) * 100)#.astype(int)\n",
    "#print(perc_donne)"
   ]
  },
  {
   "cell_type": "code",
   "execution_count": 131,
   "metadata": {},
   "outputs": [
    {
     "name": "stdout",
     "output_type": "stream",
     "text": [
      "DECODIFICA_INS\n",
      "ALGORITMI E STRUTTURE DATI                                  13.220676\n",
      "ANALISI E PROGETTAZIONE DI ALGORITMI                        11.312217\n",
      "APP MULTIMEDIALI E INTERNET OF THINGS                       13.772455\n",
      "ARCHITETTURA DEI CALCOLATORI                                13.971292\n",
      "BASI DI DATI                                                14.019851\n",
      "CALCULUS 1                                                  14.097363\n",
      "CALCULUS 2                                                  13.418530\n",
      "COMPUTAZIONE QUANTISTICA                                     5.128205\n",
      "ELEMENTI DI MATEMATICA E LOGICA                             14.203455\n",
      "FONDAMENTI DELL'ELABORAZIONE DI SEGNALI E IMMAGINI          11.522634\n",
      "FONDAMENTI DI INGEGNERIA DEL SOFTWARE                       12.811388\n",
      "GEOMETRIA                                                   11.585366\n",
      "INTRODUZIONE ALLA PROGRAMMAZIONE                            12.586873\n",
      "LINGUA INGLESE 1                                            12.577833\n",
      "LINGUAGGI E PROGRAMMAZIONE ORIENTATA  AGLI OGGETTI          13.944724\n",
      "PERFEZIONAMENTO DELLA LINGUA INGLESE                        13.333333\n",
      "SISTEMI DI ELABORAZIONE E TRASMISSIONE DELL'INFORMAZIONE    12.517781\n",
      "SISTEMI ERP                                                 12.500000\n",
      "STRUMENTI PER LO SVILUPPO E GESTIONE DEL SOFTWARE           13.333333\n",
      "SVILUPPO DI APPLICAZIONI WEB                                14.324693\n",
      "TECNICHE AVANZATE DI PROGRAMMAZIONE                         13.573407\n",
      "TEORIA DEGLI AUTOMI E CALCOLABILITÀ                         11.547344\n",
      "TEORIA DELL'INFORMAZIONE E INFERENZA                        12.519562\n",
      "dtype: float64\n"
     ]
    }
   ],
   "source": [
    "# esami potenzialmente discriminanti per le donne\n",
    "# la percentuale di donne che hanno passato almeno un esame in triennale è 14.4\n",
    "\n",
    "perc_donne_neg = perc_donne[perc_donne < (14.4)]\n",
    "print(perc_donne_neg)"
   ]
  },
  {
   "cell_type": "code",
   "execution_count": 132,
   "metadata": {},
   "outputs": [
    {
     "name": "stdout",
     "output_type": "stream",
     "text": [
      "DECODIFICA_INS\n",
      "ALGEBRA E LOGICA PER INFORMATICA                                     15.669516\n",
      "ALGEBRA LINEARE E ANALISI NUMERICA                                   14.943960\n",
      "BASI DI DATI 2                                                       16.250000\n",
      "COMPLEMENTI DI ALGORITMI E STRUTTURE DATI (8 CFU)                    18.518519\n",
      "COMPUTER SECURITY                                                    15.584416\n",
      "CULTURA AZIENDALE                                                    15.151515\n",
      "ELEMENTI DI CULTURA AZIENDALE, PROFESSIONALE, SOCIALE E GIURIDICA    17.557252\n",
      "FONDAMENTI DELL'INFORMATICA                                          18.867925\n",
      "FONDAMENTI DI COMPUTAZIONE QUANTISTICA                               14.482759\n",
      "GESTIONE AZIENDALE                                                   18.548387\n",
      "INFORMATICA PER CREATIVITÀ, DIDATTICA E DIVULGAZIONE                 24.719101\n",
      "INGEGNERIA DEL SOFTWARE (6 CFU)                                      20.588235\n",
      "INTRODUZIONE ALLA DATA SCIENCE                                       14.438503\n",
      "PERFEZIONAMENTO DELLA LINGUA INGLESE                                 18.000000\n",
      "PROGRAMMAZIONE CONCORRENTE E ALGORITMI DISTRIBUITI                   14.494876\n",
      "SISTEMI DI ELABORAZIONE DELL'INFORMAZIONE 1                          18.181818\n",
      "SISTEMI DI ELABORAZIONE E DI TRASMISSIONE                            16.981132\n",
      "WEB DESIGN                                                           16.447368\n",
      "dtype: float64\n"
     ]
    }
   ],
   "source": [
    "# esami potenzialmente discriminanti per gli uomini\n",
    "\n",
    "perc_donne_pos = perc_donne[perc_donne >= (14.4)]\n",
    "print(perc_donne_pos)"
   ]
  },
  {
   "cell_type": "code",
   "execution_count": 133,
   "metadata": {},
   "outputs": [
    {
     "data": {
      "text/plain": [
       "13.846869909239004"
      ]
     },
     "execution_count": 133,
     "metadata": {},
     "output_type": "execute_result"
    }
   ],
   "source": [
    "# la percentuale del numero di voti delle donne\n",
    "totale_voti = len(pt)  # non ci sono null #print(pt['CODICE_INS'].isnull().sum()) #print(pt['VOTO'].isnull().sum())\n",
    "totale_voti_donne = len(pt[pt['GENERE'] == 'F']) \n",
    "(totale_voti_donne/totale_voti)*100 # percentuale di voti leggermente più bassa del numero di donne, posso assumere che si fermino prima degli uomini nel percorso?\n"
   ]
  },
  {
   "cell_type": "code",
   "execution_count": 134,
   "metadata": {},
   "outputs": [],
   "source": [
    "# analizzo l'andamento generale dei voti per ogni esame (solo chi ha passato l'esame)\n",
    "perc_voti = ((pt.groupby('VOTO').size()) / (totale_voti)) * 100"
   ]
  },
  {
   "cell_type": "code",
   "execution_count": 135,
   "metadata": {},
   "outputs": [],
   "source": [
    "# analizzo l'andamento per le donne dei voti\n",
    "perc_voti_donne = ((pt[pt['GENERE'] == 'F'].groupby('VOTO').size()) / (totale_voti_donne)) * 100"
   ]
  },
  {
   "cell_type": "code",
   "execution_count": 136,
   "metadata": {},
   "outputs": [
    {
     "data": {
      "image/png": "[encoded data removed]",
      "text/plain": [
       "<Figure size 1200x600 with 1 Axes>"
      ]
     },
     "metadata": {},
     "output_type": "display_data"
    }
   ],
   "source": [
    "# visualizzazione della percentuale dei voti per genere\n",
    "\n",
    "totale_voti_donne = len(pt[pt['GENERE'] == 'F'])\n",
    "totale_voti_uomini = len(pt[pt['GENERE'] == 'M'])\n",
    "voti_donne = pt[pt['GENERE'] == 'F']['VOTO'].value_counts().sort_index()\n",
    "voti_uomini = pt[pt['GENERE'] == 'M']['VOTO'].value_counts().sort_index()\n",
    "voti = sorted(set(voti_donne.index).union(set(voti_uomini.index)))\n",
    "voti_donne = voti_donne.reindex(voti, fill_value=0)\n",
    "voti_uomini = voti_uomini.reindex(voti, fill_value=0)\n",
    "percentuale_voti_donne = (voti_donne / totale_voti_donne) * 100\n",
    "percentuale_voti_uomini = (voti_uomini / totale_voti_uomini) * 100\n",
    "\n",
    "bar_width = 0.4\n",
    "r1 = np.arange(len(voti))\n",
    "r2 = [x + bar_width for x in r1]\n",
    "\n",
    "plt.figure(figsize=(12, 6))\n",
    "plt.bar(r1, percentuale_voti_donne, width=bar_width, label='Donne', color='#E2F1AF')\n",
    "plt.bar(r2, percentuale_voti_uomini, width=bar_width, label='Uomini', color='#FFA07A')\n",
    "plt.xlabel('Voto')\n",
    "plt.ylabel('Percentuale')\n",
    "plt.title('Distribuzione percentuale dei voti per genere')\n",
    "plt.legend()\n",
    "plt.xticks([r + bar_width/2 for r in range(len(voti))], voti)\n",
    "\n",
    "plt.show()\n"
   ]
  },
  {
   "cell_type": "code",
   "execution_count": 143,
   "metadata": {},
   "outputs": [
    {
     "data": {
      "image/png": "[encoded data removed]",
      "text/plain": [
       "<Figure size 1000x600 with 1 Axes>"
      ]
     },
     "metadata": {},
     "output_type": "display_data"
    }
   ],
   "source": [
    "# visualizzazione raggruppata per range di voti\n",
    "\n",
    "# categorie dei voti\n",
    "categorie_voti = {\n",
    "    '18-22': range(18, 23),\n",
    "    '23-27': range(23, 28),\n",
    "    '28-32': range(28, 33)\n",
    "}\n",
    "\n",
    "pt_donne = pt[pt['GENERE'] == 'F']\n",
    "pt_uomini = pt[pt['GENERE'] == 'M']\n",
    "totale_voti_donne = len(pt_donne)\n",
    "totale_voti_uomini = len(pt_uomini)\n",
    "\n",
    "# Funzione per calcolare percentuali di voti per categorie\n",
    "def calcola_percentuali(pt_genere):\n",
    "    conteggio_voti = pt_genere['VOTO'].value_counts().sort_index()\n",
    "    percentuali = {}\n",
    "\n",
    "    for categoria, intervallo in categorie_voti.items():\n",
    "        conteggio_categoria = conteggio_voti.loc[intervallo].sum()\n",
    "        percentuali[categoria] = (conteggio_categoria / len(pt_genere)) * 100\n",
    "\n",
    "    return percentuali\n",
    "\n",
    "# Calcolare percentuali per donne e uomini\n",
    "percentuali_donne = calcola_percentuali(pt_donne)\n",
    "percentuali_uomini = calcola_percentuali(pt_uomini)\n",
    "\n",
    "# Creare il grafico a barre raggruppate\n",
    "plt.figure(figsize=(10, 6))\n",
    "\n",
    "bar_width = 0.35\n",
    "r1 = np.arange(len(categorie_voti))\n",
    "r2 = [x + bar_width for x in r1]\n",
    "\n",
    "plt.bar(r1, list(percentuali_donne.values()), color='#E2F1AF', width=bar_width, edgecolor='grey', label='Donne')\n",
    "plt.bar(r2, list(percentuali_uomini.values()), color='#FFA07A', width=bar_width, edgecolor='grey', label='Uomini')\n",
    "\n",
    "plt.xlabel('Categoria di Voto')\n",
    "plt.ylabel('Percentuale')\n",
    "plt.title('Distribuzione percentuale dei voti per genere e categoria di voto')\n",
    "plt.xticks([r + bar_width/2 for r in range(len(categorie_voti))], categorie_voti.keys())\n",
    "plt.legend()\n",
    "\n",
    "plt.tight_layout()\n",
    "plt.show()\n"
   ]
  },
  {
   "cell_type": "code",
   "execution_count": 138,
   "metadata": {},
   "outputs": [],
   "source": [
    "# analizzo il numero di donne laureate"
   ]
  },
  {
   "cell_type": "code",
   "execution_count": 139,
   "metadata": {},
   "outputs": [],
   "source": [
    "# analizzo il numero di donne laureate"
   ]
  },
  {
   "cell_type": "code",
   "execution_count": 140,
   "metadata": {},
   "outputs": [],
   "source": [
    "# analizzo un periodo temporale preciso, il periodo di covid"
   ]
  },
  {
   "cell_type": "code",
   "execution_count": null,
   "metadata": {},
   "outputs": [],
   "source": []
  }
 ],
 "metadata": {
  "kernelspec": {
   "display_name": "Python 3",
   "language": "python",
   "name": "python3"
  },
  "language_info": {
   "codemirror_mode": {
    "name": "ipython",
    "version": 3
   },
   "file_extension": ".py",
   "mimetype": "text/x-python",
   "name": "python",
   "nbconvert_exporter": "python",
   "pygments_lexer": "ipython3",
   "version": "3.10.12"
  }
 },
 "nbformat": 4,
 "nbformat_minor": 2
}
